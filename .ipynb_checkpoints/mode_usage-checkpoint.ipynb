{
 "cells": [
  {
   "cell_type": "code",
   "execution_count": 2,
   "id": "fad0c9c8",
   "metadata": {},
   "outputs": [],
   "source": [
    "from joblib import dump, load\n",
    "import numpy as np\n",
    "model = load('house.joblib')"
   ]
  },
  {
   "cell_type": "code",
   "execution_count": 19,
   "id": "33ac048d",
   "metadata": {},
   "outputs": [
    {
     "data": {
      "text/plain": [
       "array([1544670.])"
      ]
     },
     "execution_count": 19,
     "metadata": {},
     "output_type": "execute_result"
    }
   ],
   "source": [
    "\n",
    "features= np.array([[-9.98146, -0.7722, -2.301, -0.08931566]])\n",
    "model.predict(features)"
   ]
  },
  {
   "cell_type": "markdown",
   "id": "be833dc5",
   "metadata": {},
   "source": []
  }
 ],
 "metadata": {
  "kernelspec": {
   "display_name": "Python 3",
   "language": "python",
   "name": "python3"
  },
  "language_info": {
   "codemirror_mode": {
    "name": "ipython",
    "version": 3
   },
   "file_extension": ".py",
   "mimetype": "text/x-python",
   "name": "python",
   "nbconvert_exporter": "python",
   "pygments_lexer": "ipython3",
   "version": "3.7.9"
  }
 },
 "nbformat": 4,
 "nbformat_minor": 5
}
